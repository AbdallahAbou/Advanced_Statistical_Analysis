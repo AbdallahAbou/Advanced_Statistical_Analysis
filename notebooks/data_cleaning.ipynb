{
 "cells": [
  {
   "cell_type": "code",
   "execution_count": 2,
   "metadata": {},
   "outputs": [
    {
     "name": "stderr",
     "output_type": "stream",
     "text": [
      "INFO:root:Loading data from Excel file.\n",
      "INFO:root:Combining columns: 17 and 18\n",
      "INFO:root:Dropping empty columns.\n",
      "INFO:root:Setting new headers.\n",
      "INFO:root:Applying typo corrections to Geschlecht.\n",
      "INFO:root:Applying typo corrections to Priorisierte Hand.\n",
      "INFO:root:Calculating and updating BMI.\n",
      "INFO:root:Missing or incorrect ages calculated/corrected using 'Geb.-Datum'.\n",
      "INFO:root:Converting specified columns to numeric values.\n",
      "INFO:root:Standardizing data in column Häufigkeit Blinzeln (/min) to per 60 seconds, relative to 116 seconds.\n"
     ]
    },
    {
     "ename": "ValueError",
     "evalue": "cannot convert float NaN to integer",
     "output_type": "error",
     "traceback": [
      "\u001b[0;31m---------------------------------------------------------------------------\u001b[0m",
      "\u001b[0;31mValueError\u001b[0m                                Traceback (most recent call last)",
      "Cell \u001b[0;32mIn[2], line 55\u001b[0m\n\u001b[1;32m     51\u001b[0m     \u001b[38;5;66;03m#display(processor.df)\u001b[39;00m\n\u001b[1;32m     54\u001b[0m \u001b[38;5;28;01mif\u001b[39;00m \u001b[38;5;18m__name__\u001b[39m \u001b[38;5;241m==\u001b[39m \u001b[38;5;124m\"\u001b[39m\u001b[38;5;124m__main__\u001b[39m\u001b[38;5;124m\"\u001b[39m:\n\u001b[0;32m---> 55\u001b[0m     \u001b[43mmain\u001b[49m\u001b[43m(\u001b[49m\u001b[43m)\u001b[49m\n",
      "Cell \u001b[0;32mIn[2], line 36\u001b[0m, in \u001b[0;36mmain\u001b[0;34m()\u001b[0m\n\u001b[1;32m     34\u001b[0m processor\u001b[38;5;241m.\u001b[39mconvert_columns_to_numeric(config\u001b[38;5;241m.\u001b[39mnumeric_columns)\n\u001b[1;32m     35\u001b[0m processor\u001b[38;5;241m.\u001b[39mstandardize_data(\u001b[38;5;124m'\u001b[39m\u001b[38;5;124mHäufigkeit Blinzeln (/min)\u001b[39m\u001b[38;5;124m'\u001b[39m, std_unit\u001b[38;5;241m=\u001b[39m\u001b[38;5;241m60\u001b[39m, rel_unit\u001b[38;5;241m=\u001b[39m\u001b[38;5;241m116\u001b[39m)\n\u001b[0;32m---> 36\u001b[0m df[\u001b[38;5;124m'\u001b[39m\u001b[38;5;124mHäufigkeit Blinzeln (/min)\u001b[39m\u001b[38;5;124m'\u001b[39m] \u001b[38;5;241m=\u001b[39m \u001b[43mnp\u001b[49m\u001b[38;5;241;43m.\u001b[39;49m\u001b[43mceil\u001b[49m\u001b[43m(\u001b[49m\u001b[43mdf\u001b[49m\u001b[43m[\u001b[49m\u001b[38;5;124;43m'\u001b[39;49m\u001b[38;5;124;43mHäufigkeit Blinzeln (/min)\u001b[39;49m\u001b[38;5;124;43m'\u001b[39;49m\u001b[43m]\u001b[49m\u001b[43m)\u001b[49m\n\u001b[1;32m     39\u001b[0m df_invalid \u001b[38;5;241m=\u001b[39m processor\u001b[38;5;241m.\u001b[39mget_invalid_rows(config\u001b[38;5;241m.\u001b[39mexpected_types)\n\u001b[1;32m     41\u001b[0m processor\u001b[38;5;241m.\u001b[39mmark_invalid_data(config\u001b[38;5;241m.\u001b[39mexpected_types, placeholder\u001b[38;5;241m=\u001b[39mnp\u001b[38;5;241m.\u001b[39mnan)\n",
      "File \u001b[0;32m~/venvs/myenv/lib/python3.12/site-packages/pandas/core/generic.py:2171\u001b[0m, in \u001b[0;36mNDFrame.__array_ufunc__\u001b[0;34m(self, ufunc, method, *inputs, **kwargs)\u001b[0m\n\u001b[1;32m   2167\u001b[0m \u001b[38;5;129m@final\u001b[39m\n\u001b[1;32m   2168\u001b[0m \u001b[38;5;28;01mdef\u001b[39;00m \u001b[38;5;21m__array_ufunc__\u001b[39m(\n\u001b[1;32m   2169\u001b[0m     \u001b[38;5;28mself\u001b[39m, ufunc: np\u001b[38;5;241m.\u001b[39mufunc, method: \u001b[38;5;28mstr\u001b[39m, \u001b[38;5;241m*\u001b[39minputs: Any, \u001b[38;5;241m*\u001b[39m\u001b[38;5;241m*\u001b[39mkwargs: Any\n\u001b[1;32m   2170\u001b[0m ):\n\u001b[0;32m-> 2171\u001b[0m     \u001b[38;5;28;01mreturn\u001b[39;00m \u001b[43marraylike\u001b[49m\u001b[38;5;241;43m.\u001b[39;49m\u001b[43marray_ufunc\u001b[49m\u001b[43m(\u001b[49m\u001b[38;5;28;43mself\u001b[39;49m\u001b[43m,\u001b[49m\u001b[43m \u001b[49m\u001b[43mufunc\u001b[49m\u001b[43m,\u001b[49m\u001b[43m \u001b[49m\u001b[43mmethod\u001b[49m\u001b[43m,\u001b[49m\u001b[43m \u001b[49m\u001b[38;5;241;43m*\u001b[39;49m\u001b[43minputs\u001b[49m\u001b[43m,\u001b[49m\u001b[43m \u001b[49m\u001b[38;5;241;43m*\u001b[39;49m\u001b[38;5;241;43m*\u001b[39;49m\u001b[43mkwargs\u001b[49m\u001b[43m)\u001b[49m\n",
      "File \u001b[0;32m~/venvs/myenv/lib/python3.12/site-packages/pandas/core/arraylike.py:399\u001b[0m, in \u001b[0;36marray_ufunc\u001b[0;34m(self, ufunc, method, *inputs, **kwargs)\u001b[0m\n\u001b[1;32m    396\u001b[0m \u001b[38;5;28;01melif\u001b[39;00m \u001b[38;5;28mself\u001b[39m\u001b[38;5;241m.\u001b[39mndim \u001b[38;5;241m==\u001b[39m \u001b[38;5;241m1\u001b[39m:\n\u001b[1;32m    397\u001b[0m     \u001b[38;5;66;03m# ufunc(series, ...)\u001b[39;00m\n\u001b[1;32m    398\u001b[0m     inputs \u001b[38;5;241m=\u001b[39m \u001b[38;5;28mtuple\u001b[39m(extract_array(x, extract_numpy\u001b[38;5;241m=\u001b[39m\u001b[38;5;28;01mTrue\u001b[39;00m) \u001b[38;5;28;01mfor\u001b[39;00m x \u001b[38;5;129;01min\u001b[39;00m inputs)\n\u001b[0;32m--> 399\u001b[0m     result \u001b[38;5;241m=\u001b[39m \u001b[38;5;28;43mgetattr\u001b[39;49m\u001b[43m(\u001b[49m\u001b[43mufunc\u001b[49m\u001b[43m,\u001b[49m\u001b[43m \u001b[49m\u001b[43mmethod\u001b[49m\u001b[43m)\u001b[49m\u001b[43m(\u001b[49m\u001b[38;5;241;43m*\u001b[39;49m\u001b[43minputs\u001b[49m\u001b[43m,\u001b[49m\u001b[43m \u001b[49m\u001b[38;5;241;43m*\u001b[39;49m\u001b[38;5;241;43m*\u001b[39;49m\u001b[43mkwargs\u001b[49m\u001b[43m)\u001b[49m\n\u001b[1;32m    400\u001b[0m \u001b[38;5;28;01melse\u001b[39;00m:\n\u001b[1;32m    401\u001b[0m     \u001b[38;5;66;03m# ufunc(dataframe)\u001b[39;00m\n\u001b[1;32m    402\u001b[0m     \u001b[38;5;28;01mif\u001b[39;00m method \u001b[38;5;241m==\u001b[39m \u001b[38;5;124m\"\u001b[39m\u001b[38;5;124m__call__\u001b[39m\u001b[38;5;124m\"\u001b[39m \u001b[38;5;129;01mand\u001b[39;00m \u001b[38;5;129;01mnot\u001b[39;00m kwargs:\n\u001b[1;32m    403\u001b[0m         \u001b[38;5;66;03m# for np.<ufunc>(..) calls\u001b[39;00m\n\u001b[1;32m    404\u001b[0m         \u001b[38;5;66;03m# kwargs cannot necessarily be handled block-by-block, so only\u001b[39;00m\n\u001b[1;32m    405\u001b[0m         \u001b[38;5;66;03m# take this path if there are no kwargs\u001b[39;00m\n",
      "\u001b[0;31mValueError\u001b[0m: cannot convert float NaN to integer"
     ]
    }
   ],
   "source": [
    "import sys  \n",
    "import os\n",
    "import importlib\n",
    "sys.path.insert(1, os.path.abspath('../scripts'))\n",
    "sys.path.insert(1, os.path.abspath('../configs'))\n",
    "import data_processor\n",
    "importlib.reload(data_processor)\n",
    "from data_processor import DataProcessor\n",
    "import config\n",
    "import pandas as pd\n",
    "import numpy as np\n",
    "from IPython.display import display\n",
    "\n",
    "\n",
    "def main():\n",
    "\n",
    "    processor = DataProcessor(config.file_path)\n",
    "    df = processor.load_data()\n",
    "\n",
    "    processor.combine_columns(17, 18)\n",
    "    processor.drop_empty_columns()\n",
    "    processor.set_headers(config.new_headers)\n",
    "    processor.apply_corrections('Geschlecht', config.typos)\n",
    "    processor.apply_corrections('Priorisierte Hand', config.typos)\n",
    "\n",
    "    df.loc[:75, 'Type'] = 'Studierende'\n",
    "    df.loc[76:, 'Type'] = 'simulierte Daten'\n",
    "    df.loc[:75, 'Gruppe'] = 1\n",
    "    \n",
    "\n",
    "    processor.calculate_and_update_bmi()\n",
    "    processor.calculate_or_correct_age()\n",
    "    processor.cleanse()\n",
    "    processor.convert_columns_to_numeric(config.numeric_columns)\n",
    "    processor.standardize_data('Häufigkeit Blinzeln (/min)', std_unit=60, rel_unit=116)\n",
    "\n",
    "\n",
    "\n",
    "    df_invalid = processor.get_invalid_rows(config.expected_types)\n",
    "\n",
    "    processor.mark_invalid_data(config.expected_types, placeholder=np.nan)\n",
    "\n",
    "\n",
    "    # Save the DataFrame\n",
    "    processor.save_to_excel()\n",
    "\n",
    "    pd.set_option('display.max_rows', None)  \n",
    "    pd.set_option('display.max_columns', None)  \n",
    "    pd.set_option('display.width', None)  \n",
    "    pd.set_option('display.max_colwidth', None)\n",
    "    #display(processor.df)\n",
    "\n",
    "\n",
    "if __name__ == \"__main__\":\n",
    "    main()\n"
   ]
  },
  {
   "cell_type": "code",
   "execution_count": null,
   "metadata": {},
   "outputs": [],
   "source": []
  }
 ],
 "metadata": {
  "kernelspec": {
   "display_name": "myenv",
   "language": "python",
   "name": "python3"
  },
  "language_info": {
   "codemirror_mode": {
    "name": "ipython",
    "version": 3
   },
   "file_extension": ".py",
   "mimetype": "text/x-python",
   "name": "python",
   "nbconvert_exporter": "python",
   "pygments_lexer": "ipython3",
   "version": "3.12.4"
  }
 },
 "nbformat": 4,
 "nbformat_minor": 2
}
