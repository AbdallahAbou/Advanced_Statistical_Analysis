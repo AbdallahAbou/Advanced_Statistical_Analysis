{
 "cells": [
  {
   "cell_type": "code",
   "execution_count": 6,
   "metadata": {},
   "outputs": [
    {
     "ename": "NameError",
     "evalue": "name 'sys' is not defined",
     "output_type": "error",
     "traceback": [
      "\u001b[0;31m---------------------------------------------------------------------------\u001b[0m",
      "\u001b[0;31mNameError\u001b[0m                                 Traceback (most recent call last)",
      "Cell \u001b[0;32mIn[6], line 8\u001b[0m\n\u001b[1;32m      5\u001b[0m sys\u001b[38;5;241m.\u001b[39mpath\u001b[38;5;241m.\u001b[39mappend(os\u001b[38;5;241m.\u001b[39mpath\u001b[38;5;241m.\u001b[39mabspath(\u001b[38;5;124m'\u001b[39m\u001b[38;5;124m../scripts\u001b[39m\u001b[38;5;124m'\u001b[39m))\n\u001b[1;32m      7\u001b[0m \u001b[38;5;66;03m# Now you can import your modules\u001b[39;00m\n\u001b[0;32m----> 8\u001b[0m \u001b[38;5;28;01mimport\u001b[39;00m \u001b[38;5;21;01mdata_processor\u001b[39;00m\n\u001b[1;32m      9\u001b[0m \u001b[38;5;28;01mfrom\u001b[39;00m \u001b[38;5;21;01mdata_processor\u001b[39;00m \u001b[38;5;28;01mimport\u001b[39;00m DataProcessor\n\u001b[1;32m     10\u001b[0m \u001b[38;5;28;01mimport\u001b[39;00m \u001b[38;5;21;01mpandas\u001b[39;00m \u001b[38;5;28;01mas\u001b[39;00m \u001b[38;5;21;01mpd\u001b[39;00m\n",
      "File \u001b[0;32m~/Statistic Praktikum/scripts/data_processor.py:4\u001b[0m\n\u001b[1;32m      2\u001b[0m \u001b[38;5;28;01mfrom\u001b[39;00m \u001b[38;5;21;01mfuzzywuzzy\u001b[39;00m \u001b[38;5;28;01mimport\u001b[39;00m process\n\u001b[1;32m      3\u001b[0m \u001b[38;5;28;01mimport\u001b[39;00m \u001b[38;5;21;01mlogging\u001b[39;00m\n\u001b[0;32m----> 4\u001b[0m \u001b[43msys\u001b[49m\u001b[38;5;241m.\u001b[39mpath\u001b[38;5;241m.\u001b[39mappend(os\u001b[38;5;241m.\u001b[39mpath\u001b[38;5;241m.\u001b[39mabspath(\u001b[38;5;124m'\u001b[39m\u001b[38;5;124m../configs\u001b[39m\u001b[38;5;124m'\u001b[39m))\n\u001b[1;32m      5\u001b[0m \u001b[38;5;28;01mimport\u001b[39;00m \u001b[38;5;21;01mconfig\u001b[39;00m\n\u001b[1;32m      8\u001b[0m \u001b[38;5;28;01mclass\u001b[39;00m \u001b[38;5;21;01mDataProcessor\u001b[39;00m:\n",
      "\u001b[0;31mNameError\u001b[0m: name 'sys' is not defined"
     ]
    }
   ],
   "source": [
    "import sys  \n",
    "import os\n",
    "sys.path.insert(1, os.path.abspath('../scripts'))\n",
    "sys.path.insert(1, os.path.abspath('../configs'))\n",
    "import data_processor\n",
    "from data_processor import DataProcessor\n",
    "import config\n",
    "import pandas as pd\n",
    "from IPython.display import display\n",
    "\n",
    "\n",
    "def main():\n",
    "\n",
    "    processor = DataProcessor(config.file_path)\n",
    "    df = processor.load_data()\n",
    "\n",
    "    processor.combine_columns(17, 18)\n",
    "    processor.drop_empty_columns()\n",
    "    processor.set_headers(config.new_headers)\n",
    "    processor.apply_corrections('Geschlecht', config.typos)\n",
    "    processor.apply_corrections('Priorisierte Hand', config.typos)\n",
    "\n",
    "    df.loc[:75, 'Type'] = 'Studierende'\n",
    "    df.loc[76:, 'Type'] = 'simulierte Daten'\n",
    "    df.loc[:75, 'Gruppe'] = 1\n",
    "    \n",
    "\n",
    "    processor.calculate_and_update_bmi()\n",
    "    processor.calculate_or_correct_age()\n",
    "    processor.cleanse()\n",
    "    processor.convert_columns_to_numeric(config.numeric_columns)\n",
    "\n",
    "\n",
    "    df_invalid = processor.get_invalid_rows(config.expected_types)\n",
    "\n",
    "    processor.mark_invalid_data(config.expected_types, placeholder='-')\n",
    "\n",
    "\n",
    "    # Save the DataFrame\n",
    "    processor.save_to_excel()\n",
    "\n",
    "    pd.set_option('display.max_rows', None)  \n",
    "    pd.set_option('display.max_columns', None)  \n",
    "    pd.set_option('display.width', None)  \n",
    "    pd.set_option('display.max_colwidth', None)\n",
    "    #display(processor.df)\n",
    "\n",
    "\n",
    "if __name__ == \"__main__\":\n",
    "    main()\n"
   ]
  },
  {
   "cell_type": "code",
   "execution_count": null,
   "metadata": {},
   "outputs": [],
   "source": []
  }
 ],
 "metadata": {
  "kernelspec": {
   "display_name": "myenv",
   "language": "python",
   "name": "python3"
  },
  "language_info": {
   "codemirror_mode": {
    "name": "ipython",
    "version": 3
   },
   "file_extension": ".py",
   "mimetype": "text/x-python",
   "name": "python",
   "nbconvert_exporter": "python",
   "pygments_lexer": "ipython3",
   "version": "3.12.4"
  }
 },
 "nbformat": 4,
 "nbformat_minor": 2
}
