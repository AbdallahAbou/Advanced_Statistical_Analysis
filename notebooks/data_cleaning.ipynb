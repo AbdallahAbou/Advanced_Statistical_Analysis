{
 "cells": [
  {
   "cell_type": "code",
   "execution_count": 4,
   "metadata": {},
   "outputs": [
    {
     "name": "stderr",
     "output_type": "stream",
     "text": [
      "INFO:root:Loading data from Excel file.\n",
      "INFO:root:Combining columns: 17 and 18\n",
      "INFO:root:Dropping empty columns.\n",
      "INFO:root:Setting new headers.\n",
      "INFO:root:Applying typo corrections to Geschlecht.\n",
      "INFO:root:Applying typo corrections to Priorisierte Hand.\n",
      "INFO:root:Calculating and updating BMI.\n",
      "INFO:root:Missing or incorrect ages calculated/corrected using 'Geb.-Datum'.\n",
      "INFO:root:Converting specified columns to numeric values.\n",
      "INFO:root:Standardizing data in column Häufigkeit Blinzeln (/min) to per 60 seconds, relative to 116 seconds.\n",
      "INFO:root:Getting invalid rows.\n",
      "INFO:root:Type-based invalid rows: 54\n",
      "INFO:root:Custom invalid rows: 32\n",
      "INFO:root:Combined invalid rows: 55\n",
      "INFO:root:Marking invalid data.\n"
     ]
    }
   ],
   "source": [
    "import sys  \n",
    "import os\n",
    "import importlib\n",
    "sys.path.insert(1, os.path.abspath('../scripts'))\n",
    "sys.path.insert(1, os.path.abspath('../configs'))\n",
    "import data_processor\n",
    "importlib.reload(data_processor)\n",
    "from data_processor import DataProcessor\n",
    "import config\n",
    "import pandas as pd\n",
    "import numpy as np\n",
    "from IPython.display import display\n",
    "\n",
    "\n",
    "def main():\n",
    "\n",
    "    processor = DataProcessor(config.file_path)\n",
    "    df = processor.load_data()\n",
    "\n",
    "    processor.combine_columns(17, 18)\n",
    "    processor.drop_empty_columns()\n",
    "    processor.set_headers(config.new_headers)\n",
    "    processor.apply_corrections('Geschlecht', config.typos)\n",
    "    processor.apply_corrections('Priorisierte Hand', config.typos)\n",
    "\n",
    "    df.loc[:75, 'Type'] = 'Studierende'\n",
    "    df.loc[76:, 'Type'] = 'simulierte Daten'\n",
    "    df.loc[:75, 'Gruppe'] = 1\n",
    "    \n",
    "\n",
    "    processor.calculate_and_update_bmi()\n",
    "    processor.calculate_or_correct_age()\n",
    "    processor.correct_column()\n",
    "    processor.convert_columns_to_numeric(config.numeric_columns)\n",
    "    processor.standardize_data('Häufigkeit Blinzeln (/min)', std_unit=60, rel_unit=116)\n",
    "\n",
    "\n",
    "\n",
    "    df_invalid = processor.get_invalid_rows(config.expected_types)\n",
    "\n",
    "    processor.mark_invalid_data(config.expected_types, placeholder=np.nan)\n",
    "\n",
    "\n",
    "    # Save the DataFrame\n",
    "    processor.save_to_excel()\n",
    "\n",
    "    pd.set_option('display.max_rows', None)  \n",
    "    pd.set_option('display.max_columns', None)  \n",
    "    pd.set_option('display.width', None)  \n",
    "    pd.set_option('display.max_colwidth', None)\n",
    "    #display(processor.df)\n",
    "\n",
    "\n",
    "if __name__ == \"__main__\":\n",
    "    main()\n"
   ]
  },
  {
   "cell_type": "code",
   "execution_count": null,
   "metadata": {},
   "outputs": [],
   "source": []
  }
 ],
 "metadata": {
  "kernelspec": {
   "display_name": "myenv",
   "language": "python",
   "name": "python3"
  },
  "language_info": {
   "codemirror_mode": {
    "name": "ipython",
    "version": 3
   },
   "file_extension": ".py",
   "mimetype": "text/x-python",
   "name": "python",
   "nbconvert_exporter": "python",
   "pygments_lexer": "ipython3",
   "version": "3.12.4"
  }
 },
 "nbformat": 4,
 "nbformat_minor": 2
}
