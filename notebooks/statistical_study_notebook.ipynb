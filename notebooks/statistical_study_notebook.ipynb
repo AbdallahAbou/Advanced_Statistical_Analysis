{
 "cells": [
  {
   "cell_type": "code",
   "execution_count": 3,
   "metadata": {},
   "outputs": [],
   "source": [
    "import sys\n",
    "import os\n",
    "import importlib\n",
    "\n",
    "sys.path.insert(0, os.path.abspath('../src'))\n",
    "\n",
    "import scripts.statistical_analysis\n",
    "import configs\n",
    "\n",
    "importlib.reload(sys.modules['scripts.statistical_analysis'])\n",
    "importlib.reload(sys.modules['configs.config'])\n",
    "\n",
    "from scripts.statistical_analysis import StatisticalAnalysis\n",
    "from configs import config\n",
    "\n",
    "import pandas as pd\n",
    "from scipy import stats\n",
    "import seaborn as sns\n",
    "import matplotlib.pyplot as plt\n",
    "import statsmodels.api as sm\n",
    "from IPython.display import display"
   ]
  },
  {
   "cell_type": "code",
   "execution_count": 4,
   "metadata": {},
   "outputs": [],
   "source": [
    "analysis = StatisticalAnalysis('../data/clean/cleaned_data.xlsx')\n",
    "df_clean = analysis.load_clean_data()\n",
    "\n",
    "\n",
    "df_subset_bmi_puls = analysis.generate_subset(config.columns_q1)\n",
    "df_subset_priohand = analysis.generate_subset(config.columns_q2)\n",
    "df_subset_geschlecht_wassermenge = analysis.generate_subset(config.columns_q3)\n",
    "df_subset_blink = analysis.generate_subset(config.columns_q4)\n",
    "df_subset_geschlecht_blink = analysis.generate_subset(config.columns_q5)\n",
    "df_subset_height_luft = analysis.generate_subset(config.columns_q6)\n",
    "df_subset_prio_luft = analysis.generate_subset(config.columns_q7)"
   ]
  },
  {
   "cell_type": "markdown",
   "metadata": {},
   "source": [
    "#### Scale Types of Data\n",
    "\n",
    "- **Nominal**: Categories without a meaningful order.\n",
    "  - Type (Type of participants)\n",
    "  - Geschlecht (Gender)\n",
    "  - Priorisierte Hand (Dominant Hand)\n",
    "\n",
    "- **Ordinal**: Categories with a meaningful order but no consistent difference between them.\n",
    "  - Gruppe (Group)\n",
    "\n",
    "- **Interval**: Numerical values with consistent differences but no true zero.\n",
    "  - None in this dataset.\n",
    "\n",
    "- **Ratio**: Numerical values with a true zero and consistent differences.\n",
    "  - Alter, Jahre (Age in years)\n",
    "  - Körpergröße, cm (Height in cm)\n",
    "  - Gewicht, Kg (Weight in Kg)\n",
    "  - BMI\n",
    "  - Ruhepuls (Resting Heart Rate)\n",
    "  - Fußlänge Rechts (cm) (Foot Length Right)\n",
    "  - Fußlänge Links (cm) (Foot Length Left)\n",
    "  - Handlänge Rechts (cm) (Hand Length Right)\n",
    "  - Handlänge Links (cm) (Hand Length Left)\n",
    "  - Wassermenge (ml/Tag) (Water Intake per Day)\n",
    "  - Stamina Rechts (s) (Stamina Right Hand)\n",
    "  - Stamina Links (s) (Stamina Left Hand)\n",
    "  - Luftanhalten (s) (Breath Holding Duration)\n",
    "  - Häufigkeit Blinzeln (/min) (Blink Frequency per Minute)\n"
   ]
  },
  {
   "cell_type": "markdown",
   "metadata": {},
   "source": []
  }
 ],
 "metadata": {
  "kernelspec": {
   "display_name": "myenv",
   "language": "python",
   "name": "python3"
  },
  "language_info": {
   "codemirror_mode": {
    "name": "ipython",
    "version": 3
   },
   "file_extension": ".py",
   "mimetype": "text/x-python",
   "name": "python",
   "nbconvert_exporter": "python",
   "pygments_lexer": "ipython3",
   "version": "3.12.4"
  }
 },
 "nbformat": 4,
 "nbformat_minor": 2
}
