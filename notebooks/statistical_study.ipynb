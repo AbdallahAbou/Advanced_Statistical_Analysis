{
 "cells": [
  {
   "cell_type": "code",
   "execution_count": 40,
   "metadata": {},
   "outputs": [
    {
     "name": "stdout",
     "output_type": "stream",
     "text": [
      "Low BMI Pulse Mean: 73.21538461538462\n",
      "High BMI Pulse Mean: 76.79310344827586\n",
      "T-Statistic: -1.1804182990314658\n",
      "P-Value: 0.24087686510365608\n"
     ]
    }
   ],
   "source": [
    "import sys\n",
    "import os\n",
    "import importlib\n",
    "sys.path.insert(1, os.path.abspath('../scripts'))\n",
    "import statistical_analysis\n",
    "importlib.reload(statistical_analysis)\n",
    "from statistical_analysis import StatisticalAnalysis\n",
    "sys.path.insert(1, os.path.abspath('../configs'))\n",
    "import config # type: ignore\n",
    "importlib.reload(config)\n",
    "import pandas as pd\n",
    "from scipy import stats\n",
    "import seaborn as sns\n",
    "import matplotlib.pyplot as plt\n",
    "import statsmodels.api as sm\n",
    "from IPython.display import display\n",
    "\n",
    "\n",
    "def main():\n",
    "\n",
    "    analysis = StatisticalAnalysis('../data/clean/cleaned_data.xlsx')\n",
    "    df_clean = analysis.load_clean_data()\n",
    "    #analysis.summarize_data()\n",
    "\n",
    "\n",
    "    df_subset_bmi_puls = analysis.generate_subset(config.columns_q1)\n",
    "    df_subset_priohand = analysis.generate_subset(config.columns_q2)\n",
    "    df_subset_geschlecht_wassermenge = analysis.generate_subset(config.columns_q3)\n",
    "    df_subset_blink = analysis.generate_subset(config.columns_q4)\n",
    "    df_subset_geschlecht_blink = analysis.generate_subset(config.columns_q5)\n",
    "    df_subset_height_luft = analysis.generate_subset(config.columns_q6)\n",
    "    df_subset_prio_luft = analysis.generate_subset(config.columns_q7)\n",
    "\n",
    "\n",
    "    pd.set_option('display.max_rows', None)  \n",
    "    pd.set_option('display.max_columns', None)  \n",
    "    pd.set_option('display.width', None)  \n",
    "    pd.set_option('display.max_colwidth', None)\n",
    "    #display(df_subset_bmi_puls)\n",
    "    #display(df_subset_geschlecht_wassermenge)\n",
    "    #display(df_clean)\n",
    "\n",
    "    # Categorize BMI\n",
    "    df_subset_bmi_puls['BMI_Category'] = df_subset_bmi_puls['BMI'].apply(lambda x: 'Low' if x < 24.9 else 'High')\n",
    "\n",
    "    # Perform t-test\n",
    "    low_bmi_pulse = df_subset_bmi_puls[df_subset_bmi_puls['BMI_Category'] == 'Low']['Ruhepuls']\n",
    "    high_bmi_pulse = df_subset_bmi_puls[df_subset_bmi_puls['BMI_Category'] == 'High']['Ruhepuls']\n",
    "\n",
    "    t_stat, p_value = stats.ttest_ind(low_bmi_pulse.dropna(), high_bmi_pulse.dropna())\n",
    "\n",
    "    # Display results\n",
    "    print(f\"Low BMI Pulse Mean: {low_bmi_pulse.mean()}\")\n",
    "    print(f\"High BMI Pulse Mean: {high_bmi_pulse.mean()}\")\n",
    "    print(f\"T-Statistic: {t_stat}\")\n",
    "    print(f\"P-Value: {p_value}\")\n",
    "\n",
    "\n",
    "if __name__ == \"__main__\":\n",
    "    main()\n",
    "\n"
   ]
  },
  {
   "cell_type": "code",
   "execution_count": null,
   "metadata": {},
   "outputs": [],
   "source": []
  }
 ],
 "metadata": {
  "kernelspec": {
   "display_name": "myenv",
   "language": "python",
   "name": "python3"
  },
  "language_info": {
   "codemirror_mode": {
    "name": "ipython",
    "version": 3
   },
   "file_extension": ".py",
   "mimetype": "text/x-python",
   "name": "python",
   "nbconvert_exporter": "python",
   "pygments_lexer": "ipython3",
   "version": "3.12.4"
  }
 },
 "nbformat": 4,
 "nbformat_minor": 2
}
